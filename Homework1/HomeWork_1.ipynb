{
 "cells": [
  {
   "cell_type": "markdown",
   "id": "f6a6b75c",
   "metadata": {},
   "source": [
    "# Задача 2"
   ]
  },
  {
   "cell_type": "markdown",
   "id": "6f2349be",
   "metadata": {},
   "source": [
    "### Пункт 1"
   ]
  },
  {
   "cell_type": "code",
   "execution_count": 1,
   "id": "07570781",
   "metadata": {},
   "outputs": [
    {
     "name": "stdout",
     "output_type": "stream",
     "text": [
      "hello world\n",
      "ellow\n"
     ]
    }
   ],
   "source": [
    "user_str = str(input()).replace(' ', '').lower()\n",
    "alphabet = \"abcdefghijklmnopqrstuvwxyz\"\n",
    "longest_str = ''\n",
    "curr_str = ''\n",
    "finish = False\n",
    "for char in user_str:\n",
    "    if char not in alphabet:\n",
    "        print(\"Invalid input! There is character not from alphabet!\")\n",
    "        finish = True\n",
    "\n",
    "if finish is not True:\n",
    "    for char in user_str:\n",
    "        if char not in alphabet:\n",
    "            print(\"Invalid input! There is character not from alphabet!\")\n",
    "            break\n",
    "        if curr_str == '':\n",
    "            curr_str = char\n",
    "        elif curr_str[-1] <= char:\n",
    "            curr_str += char\n",
    "        elif curr_str[-1] > char:\n",
    "            if len(longest_str) < len(curr_str):\n",
    "                longest_str = curr_str\n",
    "                curr_str = char\n",
    "            else:\n",
    "                curr_str = char\n",
    "    if len(curr_str) > len(longest_str):\n",
    "        longest_str = curr_str\n",
    "    print(longest_str)"
   ]
  },
  {
   "cell_type": "markdown",
   "id": "7e23c460",
   "metadata": {},
   "source": [
    "### Пункт 2"
   ]
  },
  {
   "cell_type": "code",
   "execution_count": 2,
   "id": "10de9cc7",
   "metadata": {},
   "outputs": [
    {
     "name": "stdout",
     "output_type": "stream",
     "text": [
      "qwertynonnonabcdefgnonon\n",
      "3\n"
     ]
    }
   ],
   "source": [
    "user_str = str(input())\n",
    "user_str.replace(' ', '')\n",
    "alphabet = \"abcdefghijklmnopqrstuvwxyz\"\n",
    "for char in user_str:\n",
    "    if char not in alphabet:\n",
    "        print(\"Invalid input! There is character not from alphabet!\")\n",
    "        quit()\n",
    "if len(user_str) < 3:\n",
    "    print(\"Invalid input! There is character not from alphabet\")\n",
    "else:\n",
    "    print(user_str.count('non'))"
   ]
  },
  {
   "cell_type": "markdown",
   "id": "7c621871",
   "metadata": {},
   "source": [
    "# Задача 3"
   ]
  },
  {
   "cell_type": "markdown",
   "id": "44795420",
   "metadata": {},
   "source": [
    "### Пункт 1"
   ]
  },
  {
   "cell_type": "code",
   "execution_count": 3,
   "id": "b2b1ee89",
   "metadata": {},
   "outputs": [
    {
     "name": "stdout",
     "output_type": "stream",
     "text": [
      "Enter a: 3\n",
      "Enter b: 4\n",
      "Enter c: 5\n",
      "Makes the Pythagorean triplet\n"
     ]
    }
   ],
   "source": [
    "a = int(input('Enter a: '))\n",
    "b = int(input('Enter b: '))\n",
    "c = int(input('Enter c: '))\n",
    "\n",
    "if a <= b <= c and c**2 == (a**2)+(b**2):\n",
    "    print(\"Makes the Pythagorean triplet\")\n",
    "else:\n",
    "    print(\"Not a Pythagorean triplet\")"
   ]
  },
  {
   "cell_type": "markdown",
   "id": "9e2c9d99",
   "metadata": {},
   "source": [
    "### Пункт 2"
   ]
  },
  {
   "cell_type": "code",
   "execution_count": 4,
   "id": "8b3274fa",
   "metadata": {},
   "outputs": [
    {
     "name": "stdout",
     "output_type": "stream",
     "text": [
      "Enter positive integer:12345\n",
      "54321\n",
      "Enter positive integer:98765\n",
      "56789\n"
     ]
    }
   ],
   "source": [
    "user_num = int(input('Enter positive integer:'))\n",
    "output = 0\n",
    "while user_num != 0:\n",
    "    a = user_num % 10\n",
    "    output = 10 * output + a\n",
    "    user_num //= 10\n",
    "print(output)\n",
    "\n",
    "user_str = int(input('Enter positive integer:'))\n",
    "str1 = str(user_str)\n",
    "str2 = str1[::-1]\n",
    "print(str2)"
   ]
  },
  {
   "cell_type": "markdown",
   "id": "fdeab393",
   "metadata": {},
   "source": [
    "# Задача 5"
   ]
  },
  {
   "cell_type": "code",
   "execution_count": 5,
   "id": "38f16054",
   "metadata": {},
   "outputs": [
    {
     "name": "stdout",
     "output_type": "stream",
     "text": [
      "aassDDFfgGhjkl\n",
      "h\n"
     ]
    }
   ],
   "source": [
    "user_input = str(input())\n",
    "finish = False\n",
    "if len(user_input) != 0:\n",
    "    for i in user_input:\n",
    "        if user_input.lower().count(i.lower()) == 1:\n",
    "            print(i)\n",
    "            finish = True\n",
    "            break\n",
    "    if finish is not True:\n",
    "        print(\"Error! There are no characters in the string that occur once!\")\n",
    "else:\n",
    "    print(\"Error! There are no characters in the string that occur once!\")"
   ]
  },
  {
   "cell_type": "markdown",
   "id": "d83318c7",
   "metadata": {},
   "source": [
    "# Задача 6\n"
   ]
  },
  {
   "cell_type": "code",
   "execution_count": 1,
   "id": "7d7c3e5c",
   "metadata": {},
   "outputs": [
    {
     "name": "stdout",
     "output_type": "stream",
     "text": [
      "Input your name and balance\n",
      "Name:George\n",
      "Balance:100\n",
      "This is our product range: \n",
      "   product_name  price\n",
      "0         milk    9.5\n",
      "1        bread    5.5\n",
      "2       tomato    4.0\n",
      "3         meat   30.0\n",
      "4    ice_cream   25.7\n",
      "5     sausages   10.0\n",
      "6         wine   70.5\n",
      "You can use commands like: Add, Delete, Exit\n",
      "You:add\n",
      "Input number of product:3\n",
      "Your cart: \n",
      "   product_name  price\n",
      "0         meat   30.0\n",
      "Your balance: 70.0\n",
      "You:add\n",
      "Input number of product:2\n",
      "Your cart: \n",
      "   product_name  price\n",
      "0         meat   30.0\n",
      "1       tomato    4.0\n",
      "Your balance: 66.0\n",
      "You:add\n",
      "Input number of product:6\n",
      "Your cart: \n",
      "   product_name  price\n",
      "0         meat   30.0\n",
      "1       tomato    4.0\n",
      "2         wine   70.5\n",
      "Your balance: -4.5\n",
      "Attention! Your balance is negative!\n",
      "You:exit\n",
      "You can't end session because your balance is negative. \n",
      " Delete some products from your cart!\n",
      "Your balance: -4.5\n",
      "You:delete\n",
      "Input number of product:2\n",
      "Your cart: \n",
      "   product_name  price\n",
      "0         meat   30.0\n",
      "1       tomato    4.0\n",
      "Your balance: 66.0\n",
      "You:exit\n"
     ]
    }
   ],
   "source": [
    "import pandas as pd\n",
    "\n",
    "\n",
    "class Market:\n",
    "\n",
    "    def __init__(self, name, balance, products, cart):\n",
    "        self.name = name\n",
    "        self.balance = balance\n",
    "        self.products = products\n",
    "        self.cart = cart\n",
    "\n",
    "    def add_product(self, product_num, cart, balance):  # Function for adding products to cart\n",
    "        product_frame = pd.DataFrame(products.iloc[[product_num]])\n",
    "        updated_cart = pd.concat([cart, product_frame], ignore_index=True)\n",
    "        balance -= float(products.iloc[[product_num], 1])\n",
    "        print(\"Your cart:\", '\\n', updated_cart)\n",
    "        print(\"Your balance:\", balance)\n",
    "        if balance < 0:\n",
    "            print(\"Attention! Your balance is negative!\")\n",
    "        return updated_cart, balance\n",
    "\n",
    "    def delete_product(self, product_num, cart, balance):   # Function for deleting products from cart\n",
    "        updated_cart = cart.drop(index=product_num)\n",
    "        balance += float(cart.iloc[[product_num], 1])\n",
    "        print(\"Your cart:\", '\\n', updated_cart)\n",
    "        print(\"Your balance:\", balance)\n",
    "        return updated_cart, balance\n",
    "\n",
    "\n",
    "# Executable code\n",
    "if __name__ == '__main__':\n",
    "    print(\"Input your name and balance\")\n",
    "    name = str(input(\"Name:\"))\n",
    "    balance = float(input(\"Balance:\"))\n",
    "    products = pd.read_csv('products.csv')\n",
    "    cart = pd.DataFrame({\n",
    "        \"product_name\": [],\n",
    "        \"price\": []\n",
    "    })\n",
    "    market = Market(name, balance, products, cart)\n",
    "    print(\"This is our product range:\", '\\n', products)\n",
    "    print(\"You can use commands like: Add, Delete, Exit\")\n",
    "\n",
    "    while True:\n",
    "        user_input = input(\"You:\")\n",
    "        if user_input.lower() == 'exit' and balance > 0:\n",
    "            break\n",
    "        elif user_input.lower() == 'exit' and balance < 0:\n",
    "            print(\"You can't end session because your balance is negative.\", '\\n', \"Delete some products from your cart!\")\n",
    "            print(\"Your balance:\", balance)\n",
    "        elif user_input.lower() == \"add\":\n",
    "            product_num = int(input(\"Input number of product:\"))\n",
    "            cart, balance = market.add_product(product_num, cart, balance)\n",
    "        elif user_input.lower() == \"delete\":\n",
    "            product_num = int(input(\"Input number of product:\"))\n",
    "            cart, balance = market.delete_product(product_num, cart, balance)\n",
    "        else:\n",
    "            print(\"Invalid input! Try again!\")\n"
   ]
  },
  {
   "cell_type": "code",
   "execution_count": null,
   "id": "0a2965ef",
   "metadata": {},
   "outputs": [],
   "source": []
  }
 ],
 "metadata": {
  "kernelspec": {
   "display_name": "Python 3 (ipykernel)",
   "language": "python",
   "name": "python3"
  },
  "language_info": {
   "codemirror_mode": {
    "name": "ipython",
    "version": 3
   },
   "file_extension": ".py",
   "mimetype": "text/x-python",
   "name": "python",
   "nbconvert_exporter": "python",
   "pygments_lexer": "ipython3",
   "version": "3.10.1"
  }
 },
 "nbformat": 4,
 "nbformat_minor": 5
}
