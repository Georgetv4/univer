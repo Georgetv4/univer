{
 "cells": [
  {
   "cell_type": "markdown",
   "id": "082317c6",
   "metadata": {},
   "source": [
    "# Задача 3"
   ]
  },
  {
   "cell_type": "code",
   "execution_count": 1,
   "id": "8ba53d06",
   "metadata": {},
   "outputs": [
    {
     "name": "stdout",
     "output_type": "stream",
     "text": [
      "The email you entered is valid.\n"
     ]
    }
   ],
   "source": [
    "import re\n",
    "\n",
    "\n",
    "def check_email(email):\n",
    "    pattern = r'^[a-zA-Z][\\w]*@[a-zA-Z]+\\.[a-zA-Z]{2,3}$'\n",
    "    if re.match(pattern, email):\n",
    "        return \"The email you entered is valid.\"\n",
    "    else:\n",
    "        return \"The email you entered is not valid.\"\n",
    "\n",
    "\n",
    "print(check_email('george_tverdokhlib@gmail.com'))"
   ]
  },
  {
   "cell_type": "markdown",
   "id": "44b93537",
   "metadata": {},
   "source": [
    "# Задача 4"
   ]
  },
  {
   "cell_type": "code",
   "execution_count": 2,
   "id": "4bb0801b",
   "metadata": {},
   "outputs": [
    {
     "name": "stdout",
     "output_type": "stream",
     "text": [
      "3\n"
     ]
    }
   ],
   "source": [
    "import re\n",
    "\n",
    "\n",
    "def count_smileys(smileys):\n",
    "    pattern = r'[:;][-o]?[)D]'\n",
    "    return len(re.findall(pattern, smileys))\n",
    "\n",
    "print(count_smileys(':-);D:oD'))"
   ]
  },
  {
   "cell_type": "markdown",
   "id": "e01a2ad6",
   "metadata": {},
   "source": [
    "# Задача 5"
   ]
  },
  {
   "cell_type": "code",
   "execution_count": 3,
   "id": "048a0166",
   "metadata": {},
   "outputs": [
    {
     "name": "stdout",
     "output_type": "stream",
     "text": [
      "The doctor is available\n"
     ]
    }
   ],
   "source": [
    "from datetime import datetime\n",
    "\n",
    "\n",
    "def appointment(schedule, current_time):\n",
    "    if not schedule:\n",
    "        return \"The doctor is available\"\n",
    "\n",
    "    current_time = datetime.strptime(current_time, '%H:%M')\n",
    "\n",
    "    for i in schedule:\n",
    "        start_time = datetime.strptime(i[0], '%H:%M')\n",
    "        end_time = datetime.strptime(i[1], '%H:%M')\n",
    "        if start_time <= current_time <= end_time:\n",
    "            return end_time.strftime('%H:%M')\n",
    "\n",
    "    return \"The doctor is available\"\n",
    "\n",
    "print(appointment([['10:10', '11:00'], ['12:00', '12:30']], '14:00'))"
   ]
  },
  {
   "cell_type": "markdown",
   "id": "4191e127",
   "metadata": {},
   "source": [
    "# Задача 6"
   ]
  },
  {
   "cell_type": "code",
   "execution_count": 7,
   "id": "431b1a03",
   "metadata": {},
   "outputs": [
    {
     "name": "stdout",
     "output_type": "stream",
     "text": [
      "The missing letter is: d\n"
     ]
    }
   ],
   "source": [
    "def find_missing_letter(chars):\n",
    "    for i in range(len(chars) - 1):\n",
    "        if ord(chars[i+1]) - ord(chars[i]) > 1:\n",
    "            return print('The missing letter is:', chr(ord(chars[i]) + 1))\n",
    "    else:\n",
    "        return \"There is no missing letters\"\n",
    "\n",
    "\n",
    "find_missing_letter('abcefg')"
   ]
  },
  {
   "cell_type": "code",
   "execution_count": null,
   "id": "53a1743b",
   "metadata": {},
   "outputs": [],
   "source": []
  }
 ],
 "metadata": {
  "kernelspec": {
   "display_name": "Python 3 (ipykernel)",
   "language": "python",
   "name": "python3"
  },
  "language_info": {
   "codemirror_mode": {
    "name": "ipython",
    "version": 3
   },
   "file_extension": ".py",
   "mimetype": "text/x-python",
   "name": "python",
   "nbconvert_exporter": "python",
   "pygments_lexer": "ipython3",
   "version": "3.9.7"
  }
 },
 "nbformat": 4,
 "nbformat_minor": 5
}
